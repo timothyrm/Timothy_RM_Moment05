{
 "metadata": {
  "language_info": {
   "codemirror_mode": {
    "name": "ipython",
    "version": 3
   },
   "file_extension": ".py",
   "mimetype": "text/x-python",
   "name": "python",
   "nbconvert_exporter": "python",
   "pygments_lexer": "ipython3",
   "version": "3.8.3-final"
  },
  "orig_nbformat": 2,
  "kernelspec": {
   "name": "python3",
   "display_name": "Python 3",
   "language": "python"
  }
 },
 "nbformat": 4,
 "nbformat_minor": 2,
 "cells": [
  {
   "cell_type": "code",
   "execution_count": 3,
   "metadata": {},
   "outputs": [
    {
     "output_type": "stream",
     "name": "stdout",
     "text": [
      "Timothy, TE19D, NTI kronhus\n"
     ]
    }
   ],
   "source": [
    "#1\n",
    "def f():\n",
    "    print(\"Timothy, TE19D, NTI kronhus\")\n",
    "f()"
   ]
  },
  {
   "cell_type": "code",
   "execution_count": 35,
   "metadata": {},
   "outputs": [
    {
     "output_type": "stream",
     "name": "stdout",
     "text": [
      "radien är: 2.3\narean är:\n16.610599999999998\nomkretsen är:\n14.443999999999999\n"
     ]
    }
   ],
   "source": [
    "#2\n",
    "def areaf(x):    #skapar funktion \n",
    "    print(f\"{r*r*pi}\") #hur den räknar ut arean\n",
    "\n",
    "\n",
    "def omkretsf(x): \n",
    "    print(f\"{2*r*pi}\") #hur den räknar ut omkretsen\n",
    "\n",
    "pi = 3.14 #sätter värde för pi då den behövs i kalkulationen för att räkan ut arean/omkretsen\n",
    "r = float(input(\"ange en radie för cirkeln\")) #gör så att användaren kan bestämma radie\n",
    "\n",
    "\n",
    "print(f\"radien är: {r}\") #printar ut radien\n",
    "\n",
    "print(\"arean är:\")\n",
    "\n",
    "areaf(r) #printar ut funktinen för arean\n",
    "\n",
    "print(\"omkretsen är:\")\n",
    "\n",
    "omkretsf(r) #printar ut funktionen för omkretsen"
   ]
  },
  {
   "cell_type": "code",
   "execution_count": 36,
   "metadata": {},
   "outputs": [
    {
     "output_type": "stream",
     "name": "stdout",
     "text": [
      "radien är      :   3.4\narean är       :   36.2984\nomkretsen är   :   21.352\n"
     ]
    }
   ],
   "source": [
    "#3\n",
    "def areaf(x):     \n",
    "    areaf = r*r*pi\n",
    "    return areaf #returnar funktionen som jag skapade för o räkna ut area\n",
    "\n",
    "\n",
    "def omkretsf(x):\n",
    "    omkretsf= 2*r*pi\n",
    "    return omkretsf #samma fast omkrets\n",
    "\n",
    "pi = 3.14\n",
    "r = float(input(\"ange en radie för cirkeln\"))\n",
    "\n",
    " \n",
    "print(f\"radien är      :   {r}\") #printar radien\n",
    "print(f\"arean är       :   {areaf(r)}\") #printar arean\n",
    "print(f\"omkretsen är   :   {omkretsf(r)}\") #printar omkretsen\n"
   ]
  },
  {
   "cell_type": "code",
   "execution_count": 37,
   "metadata": {},
   "outputs": [
    {
     "output_type": "stream",
     "name": "stdout",
     "text": [
      "radien är      :   3.0\narean är       :   28.26\nomkretsen är   :   18.84\n"
     ]
    }
   ],
   "source": [
    "#5\n",
    "from uppgift3 import *\n",
    "\n",
    "r = float(input(\"ange en radie för cirkeln\"))\n",
    "\n",
    "print(f\"radien är      :   {r}\") #printar radien\n",
    "print(f\"arean är       :   {areaf(r)}\") #printar arean\n",
    "print(f\"omkretsen är   :   {omkretsf(r)}\") #printar omkretsen\n"
   ]
  },
  {
   "cell_type": "code",
   "execution_count": 44,
   "metadata": {},
   "outputs": [
    {
     "output_type": "stream",
     "name": "stdout",
     "text": [
      "radien är      :   3.0\narean är       :   28.26\nomkretsen är   :   18.84\n"
     ]
    }
   ],
   "source": [
    "#6\n",
    "def areaf(x):   \n",
    "    areaf = r*r*pi #Detta är hur man räknar ut area på en cirkel så jag skapar detta för att sedan kunna returna det(räkna ut det)\n",
    "    return areaf #returnar funktionen som jag skapade för o räkna ut area\n",
    "\n",
    "#när man skriver def så skapar man en funktion, så def areaf(x): är funktionens namn för att räkna ut area, sedan sätter man in hur man räknar ut area under funktionens :.  \n",
    "\n",
    "def omkretsf(x):\n",
    "    omkretsf= 2*r*pi #samma här fast för omkretsen.\n",
    "    return omkretsf #samma fast omkrets\n",
    "\n",
    "pi = 3.14 #här sätter jag värde på pi då man behöver pi för att kunna räkna ut area/omkrets.\n",
    "r = float(input(\"ange en radie för cirkeln\")) #man skapar så användaren kan använda sig utav decimaler när man använder float kommandot. Detta gör då så användaren kan mata in vilket tal som hen vill.\n",
    "\n",
    " \n",
    "print(f\"radien är      :   {r}\") #printar radien som användaren har valt.\n",
    "print(f\"arean är       :   {areaf(r)}\") #printar funktionen för area\n",
    "print(f\"omkretsen är   :   {omkretsf(r)}\") #printar omkretsens funktion.\n"
   ]
  },
  {
   "cell_type": "code",
   "execution_count": 1,
   "metadata": {},
   "outputs": [
    {
     "output_type": "stream",
     "name": "stdout",
     "text": [
      "*\n**\n***\n****\n*****\n******\n*******\n********\n*********\n**********\nHo, Ho, Ho!\nJullovet är nära\n"
     ]
    }
   ],
   "source": [
    "#7\n",
    "from m0507_funktioner import * \n",
    "\n",
    "julgran(10)\n",
    "tomten()"
   ]
  },
  {
   "cell_type": "code",
   "execution_count": 40,
   "metadata": {},
   "outputs": [
    {
     "output_type": "stream",
     "name": "stdout",
     "text": [
      "\n",
      "Alla transaktioner:\n",
      " Nr     Händelse        Saldo\n",
      "---------------------------------------\n",
      " 1.      1000 kr      1000 kr\n",
      " 2.      3333 kr      4333 kr\n",
      "\n",
      "Alla transaktioner:\n",
      " Nr     Händelse        Saldo\n",
      "---------------------------------------\n",
      " 1.      1000 kr      1000 kr\n",
      " 2.      3333 kr      4333 kr\n",
      " 3.      -333 kr      4000 kr\n",
      "Nu har du lämnat applikationen, välkommen åter!\n"
     ]
    }
   ],
   "source": [
    "#bankapplication\n",
    "\n",
    "#Jag kommer behöva ha en while loop då appplikationen ska kunna gå runt så länge jag vill\n",
    "#sedan kommer jag behöva ha en typ av meny för att kunna skriva ut saldot osv där användare får välja\n",
    "\n",
    "#I tutorialen nämner dem hur det kan vara bra o göra en skiss för hur man vill att sin meny ska se ut. Såhär är min:\n",
    "\n",
    "\n",
    "##################\n",
    "# Meny\n",
    "# Saldot\n",
    "##################\n",
    "# 1.Visa transaktioner\n",
    "# 2.Lägg in pengar\n",
    "# 3.Ta ut pengar\n",
    "# 4.Avsluta\n",
    "#Välj:\n",
    "#################\n",
    "\n",
    "\n",
    "#Det första jag kommer göra är menyn då det är det första jag vill att användaren ska se för att sedan kunna välja att göra massa annat\n",
    "\n",
    "saldo = 1000 #måste också lägga in att saldot i början är 1000kr då uppgiften säger att man börjar med det\n",
    "transaktioner = []         #här ska alla transaktionerna ske\n",
    "transaktioner.append(1000) #så att den startar på 1000 och inte 0\n",
    "\n",
    " \n",
    "def balance():   #gör funktion för o kunna räna ut saldot \n",
    "    balance = 0\n",
    "    for i in transaktioner:\n",
    "        balance += i\n",
    "    return balance\n",
    "\n",
    "\n",
    "def validate_int(output, error_mess):      #Validerar värdet\n",
    "    while True:\n",
    "        try:\n",
    "            value = int(input(output))  #Hela denna koden kortfattat ska ta hand om problem såsom om man skriver decimaltal eller text\n",
    "            break\n",
    "        except:\n",
    "            print(error_mess)\n",
    "    return value\n",
    "\n",
    "\n",
    "def print_transaktioner(): #gjord för o kunna printa ut alla transaktionerna\n",
    "    x = 0\n",
    "    y = 0\n",
    "    z = (\"\\nAlla transaktioner:\"\n",
    "         \"\\n{:>3} {:>12} {:>12}\"\n",
    "         \"\\n---------------------------------------\").format(\"Nr\", \"Händelse\", \"Saldo\")\n",
    "    for i in transaktioner:\n",
    "        x += 1\n",
    "        y += i\n",
    "        z += (\"\\n{:>2}. {:>9} kr {:>9} kr\".format(x, i, y)) #för o skapa kolumner så det ser bra ut \n",
    "    return z #returnerar hela koden, detta gör att man kan skriva mindre vid if satserna\n",
    "\n",
    "\n",
    "while True:\n",
    "    meny = (\"##################\\n\"\n",
    "            \"   Meny\\n\"\n",
    "            \"\"f\"Saldo: {saldo}\\n\"\n",
    "            \"##################\\n\"\n",
    "            \"1. Visa transaktioner\\n\"\n",
    "            \"2. Lägg in pengar\\n\"\n",
    "            \"3. Ta ut pengar\\n\"\n",
    "            \"4. Avsluta\\n\"\n",
    "            \"Välj: \\n\"\n",
    "            \"##################\\n\".format(balance))\n",
    "\n",
    "    val = validate_int(meny, \"felaktig inmatning.\")\n",
    "\n",
    "    if val == 4: #skapar if satser för att kunna avgöra vad som händer när man väljer det man gör. \n",
    "        break\n",
    "    \n",
    "    elif val == 1:\n",
    "        print(print_transaktioner())\n",
    "    \n",
    "    elif val == 2:\n",
    "        inmatning = validate_int(\"Hur mycket pengar vill du mata in?\", \"Felaktig inmatning.\") #Detta gör så man kan mata in pengarna och under är för o ta ut. \n",
    "        saldo += inmatning\n",
    "        transaktioner.append(inmatning) #för listan så man kan se transaktionerna som sker\n",
    "    \n",
    "    elif val == 3:\n",
    "        utmatning = validate_int(\"hur mycket pengar vill du ta ut?\", \"Felaktig inmatning.\")\n",
    "        if utmatning <= balance() and utmatning >= 0:\n",
    "            saldo -=utmatning\n",
    "            transaktioner.append(-utmatning) #Detta är för utmatning, vädligt viktigt o inte glömma så transaktionerna inte blir fel\n",
    "        elif utmatning < 0:\n",
    "            print(\"Utmatningen måste vara större än 0!\")\n",
    "        else:\n",
    "            print(\"Error! Du kan inte ta ut mer pengar än vad du har!\")\n",
    "    \n",
    "    else:\n",
    "        print(\"Error!\")\n",
    "\n",
    "print(\"Nu har du lämnat applikationen, välkommen åter!\") #Detta är för ifall man väljer 4, vilket bryter loopen. \n",
    "\n",
    "\n",
    "\n"
   ]
  },
  {
   "cell_type": "code",
   "execution_count": null,
   "metadata": {},
   "outputs": [],
   "source": []
  }
 ]
}